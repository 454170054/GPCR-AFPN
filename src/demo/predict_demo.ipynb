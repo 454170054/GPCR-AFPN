{
 "cells": [
  {
   "cell_type": "code",
   "execution_count": 1,
   "metadata": {},
   "outputs": [],
   "source": [
    "from src.code import predict"
   ]
  },
  {
   "cell_type": "markdown",
   "metadata": {
    "collapsed": false,
    "jupyter": {
     "outputs_hidden": false
    },
    "pycharm": {
     "name": "#%% md\n"
    }
   },
   "source": [
    "### Define the filepath of the dataset needing to be predicted"
   ]
  },
  {
   "cell_type": "code",
   "execution_count": 2,
   "metadata": {
    "collapsed": false,
    "jupyter": {
     "outputs_hidden": false
    },
    "pycharm": {
     "name": "#%%\n"
    }
   },
   "outputs": [],
   "source": [
    "file_path = r\"../../resources/predict/test_dataset.csv\""
   ]
  },
  {
   "cell_type": "code",
   "execution_count": 3,
   "metadata": {
    "collapsed": false,
    "jupyter": {
     "outputs_hidden": false
    },
    "pycharm": {
     "name": "#%%\n"
    }
   },
   "outputs": [],
   "source": [
    "p = predict.Predictor()"
   ]
  },
  {
   "cell_type": "code",
   "execution_count": 4,
   "metadata": {
    "collapsed": false,
    "jupyter": {
     "outputs_hidden": false
    },
    "pycharm": {
     "name": "#%%\n"
    }
   },
   "outputs": [
    {
     "ename": "ValueError",
     "evalue": "Cannot load file containing pickled data when allow_pickle=False",
     "output_type": "error",
     "traceback": [
      "\u001B[1;31m---------------------------------------------------------------------------\u001B[0m",
      "\u001B[1;31mValueError\u001B[0m                                Traceback (most recent call last)",
      "Cell \u001B[1;32mIn[4], line 1\u001B[0m\n\u001B[1;32m----> 1\u001B[0m \u001B[43mp\u001B[49m\u001B[38;5;241;43m.\u001B[39;49m\u001B[43mpredict\u001B[49m\u001B[43m(\u001B[49m\u001B[43mfile_path\u001B[49m\u001B[43m,\u001B[49m\u001B[43m \u001B[49m\u001B[38;5;28;43mstr\u001B[39;49m\u001B[43m(\u001B[49m\u001B[38;5;241;43m1\u001B[39;49m\u001B[43m)\u001B[49m\u001B[43m)\u001B[49m\n",
      "File \u001B[1;32mE:\\pycharmprojects\\GPCR-AFPN\\src\\code\\predict.py:23\u001B[0m, in \u001B[0;36mPredictor.predict\u001B[1;34m(self, file_path, job_id)\u001B[0m\n\u001B[0;32m     21\u001B[0m \u001B[38;5;28;01mif\u001B[39;00m \u001B[38;5;129;01mnot\u001B[39;00m os\u001B[38;5;241m.\u001B[39mpath\u001B[38;5;241m.\u001B[39mexists(\u001B[38;5;124m\"\u001B[39m\u001B[38;5;124m../../resources/model/fastText/fastText.model.wv.vectors_ngrams.npy\u001B[39m\u001B[38;5;124m\"\u001B[39m):\n\u001B[0;32m     22\u001B[0m     \u001B[38;5;28mself\u001B[39m\u001B[38;5;241m.\u001B[39munion()\n\u001B[1;32m---> 23\u001B[0m fast_text_model \u001B[38;5;241m=\u001B[39m \u001B[43mFastText\u001B[49m\u001B[38;5;241;43m.\u001B[39;49m\u001B[43mload\u001B[49m\u001B[43m(\u001B[49m\u001B[38;5;124;43m\"\u001B[39;49m\u001B[38;5;124;43m../../resources/model/fastText/fastText.model\u001B[39;49m\u001B[38;5;124;43m\"\u001B[39;49m\u001B[43m)\u001B[49m\n\u001B[0;32m     24\u001B[0m features \u001B[38;5;241m=\u001B[39m fastText_features(file_path, fast_text_model)\n\u001B[0;32m     25\u001B[0m \u001B[38;5;28mprint\u001B[39m(features)\n",
      "File \u001B[1;32mD:\\anaconda\\envs\\gpcr-afpn\\lib\\site-packages\\gensim\\models\\fasttext.py:637\u001B[0m, in \u001B[0;36mFastText.load\u001B[1;34m(cls, *args, **kwargs)\u001B[0m\n\u001B[0;32m    617\u001B[0m \u001B[38;5;129m@classmethod\u001B[39m\n\u001B[0;32m    618\u001B[0m \u001B[38;5;28;01mdef\u001B[39;00m \u001B[38;5;21mload\u001B[39m(\u001B[38;5;28mcls\u001B[39m, \u001B[38;5;241m*\u001B[39margs, \u001B[38;5;241m*\u001B[39m\u001B[38;5;241m*\u001B[39mkwargs):\n\u001B[0;32m    619\u001B[0m \u001B[38;5;250m    \u001B[39m\u001B[38;5;124;03m\"\"\"Load a previously saved `FastText` model.\u001B[39;00m\n\u001B[0;32m    620\u001B[0m \n\u001B[0;32m    621\u001B[0m \u001B[38;5;124;03m    Parameters\u001B[39;00m\n\u001B[1;32m   (...)\u001B[0m\n\u001B[0;32m    635\u001B[0m \n\u001B[0;32m    636\u001B[0m \u001B[38;5;124;03m    \"\"\"\u001B[39;00m\n\u001B[1;32m--> 637\u001B[0m     \u001B[38;5;28;01mreturn\u001B[39;00m \u001B[38;5;28msuper\u001B[39m(FastText, \u001B[38;5;28mcls\u001B[39m)\u001B[38;5;241m.\u001B[39mload(\u001B[38;5;241m*\u001B[39margs, rethrow\u001B[38;5;241m=\u001B[39m\u001B[38;5;28;01mTrue\u001B[39;00m, \u001B[38;5;241m*\u001B[39m\u001B[38;5;241m*\u001B[39mkwargs)\n",
      "File \u001B[1;32mD:\\anaconda\\envs\\gpcr-afpn\\lib\\site-packages\\gensim\\models\\word2vec.py:1953\u001B[0m, in \u001B[0;36mWord2Vec.load\u001B[1;34m(cls, rethrow, *args, **kwargs)\u001B[0m\n\u001B[0;32m   1934\u001B[0m \u001B[38;5;250m\u001B[39m\u001B[38;5;124;03m\"\"\"Load a previously saved :class:`~gensim.models.word2vec.Word2Vec` model.\u001B[39;00m\n\u001B[0;32m   1935\u001B[0m \n\u001B[0;32m   1936\u001B[0m \u001B[38;5;124;03mSee Also\u001B[39;00m\n\u001B[1;32m   (...)\u001B[0m\n\u001B[0;32m   1950\u001B[0m \n\u001B[0;32m   1951\u001B[0m \u001B[38;5;124;03m\"\"\"\u001B[39;00m\n\u001B[0;32m   1952\u001B[0m \u001B[38;5;28;01mtry\u001B[39;00m:\n\u001B[1;32m-> 1953\u001B[0m     model \u001B[38;5;241m=\u001B[39m \u001B[38;5;28msuper\u001B[39m(Word2Vec, \u001B[38;5;28mcls\u001B[39m)\u001B[38;5;241m.\u001B[39mload(\u001B[38;5;241m*\u001B[39margs, \u001B[38;5;241m*\u001B[39m\u001B[38;5;241m*\u001B[39mkwargs)\n\u001B[0;32m   1954\u001B[0m     \u001B[38;5;28;01mif\u001B[39;00m \u001B[38;5;129;01mnot\u001B[39;00m \u001B[38;5;28misinstance\u001B[39m(model, Word2Vec):\n\u001B[0;32m   1955\u001B[0m         rethrow \u001B[38;5;241m=\u001B[39m \u001B[38;5;28;01mTrue\u001B[39;00m\n",
      "File \u001B[1;32mD:\\anaconda\\envs\\gpcr-afpn\\lib\\site-packages\\gensim\\utils.py:487\u001B[0m, in \u001B[0;36mSaveLoad.load\u001B[1;34m(cls, fname, mmap)\u001B[0m\n\u001B[0;32m    484\u001B[0m compress, subname \u001B[38;5;241m=\u001B[39m SaveLoad\u001B[38;5;241m.\u001B[39m_adapt_by_suffix(fname)\n\u001B[0;32m    486\u001B[0m obj \u001B[38;5;241m=\u001B[39m unpickle(fname)\n\u001B[1;32m--> 487\u001B[0m \u001B[43mobj\u001B[49m\u001B[38;5;241;43m.\u001B[39;49m\u001B[43m_load_specials\u001B[49m\u001B[43m(\u001B[49m\u001B[43mfname\u001B[49m\u001B[43m,\u001B[49m\u001B[43m \u001B[49m\u001B[43mmmap\u001B[49m\u001B[43m,\u001B[49m\u001B[43m \u001B[49m\u001B[43mcompress\u001B[49m\u001B[43m,\u001B[49m\u001B[43m \u001B[49m\u001B[43msubname\u001B[49m\u001B[43m)\u001B[49m\n\u001B[0;32m    488\u001B[0m obj\u001B[38;5;241m.\u001B[39madd_lifecycle_event(\u001B[38;5;124m\"\u001B[39m\u001B[38;5;124mloaded\u001B[39m\u001B[38;5;124m\"\u001B[39m, fname\u001B[38;5;241m=\u001B[39mfname)\n\u001B[0;32m    489\u001B[0m \u001B[38;5;28;01mreturn\u001B[39;00m obj\n",
      "File \u001B[1;32mD:\\anaconda\\envs\\gpcr-afpn\\lib\\site-packages\\gensim\\models\\fasttext.py:641\u001B[0m, in \u001B[0;36mFastText._load_specials\u001B[1;34m(self, *args, **kwargs)\u001B[0m\n\u001B[0;32m    639\u001B[0m \u001B[38;5;28;01mdef\u001B[39;00m \u001B[38;5;21m_load_specials\u001B[39m(\u001B[38;5;28mself\u001B[39m, \u001B[38;5;241m*\u001B[39margs, \u001B[38;5;241m*\u001B[39m\u001B[38;5;241m*\u001B[39mkwargs):\n\u001B[0;32m    640\u001B[0m \u001B[38;5;250m    \u001B[39m\u001B[38;5;124;03m\"\"\"Handle special requirements of `.load()` protocol, usually up-converting older versions.\"\"\"\u001B[39;00m\n\u001B[1;32m--> 641\u001B[0m     \u001B[38;5;28msuper\u001B[39m(FastText, \u001B[38;5;28mself\u001B[39m)\u001B[38;5;241m.\u001B[39m_load_specials(\u001B[38;5;241m*\u001B[39margs, \u001B[38;5;241m*\u001B[39m\u001B[38;5;241m*\u001B[39mkwargs)\n\u001B[0;32m    642\u001B[0m     \u001B[38;5;28;01mif\u001B[39;00m \u001B[38;5;28mhasattr\u001B[39m(\u001B[38;5;28mself\u001B[39m, \u001B[38;5;124m'\u001B[39m\u001B[38;5;124mbucket\u001B[39m\u001B[38;5;124m'\u001B[39m):\n\u001B[0;32m    643\u001B[0m         \u001B[38;5;66;03m# should only exist in one place: the wv subcomponent\u001B[39;00m\n\u001B[0;32m    644\u001B[0m         \u001B[38;5;28mself\u001B[39m\u001B[38;5;241m.\u001B[39mwv\u001B[38;5;241m.\u001B[39mbucket \u001B[38;5;241m=\u001B[39m \u001B[38;5;28mself\u001B[39m\u001B[38;5;241m.\u001B[39mbucket\n",
      "File \u001B[1;32mD:\\anaconda\\envs\\gpcr-afpn\\lib\\site-packages\\gensim\\models\\word2vec.py:1969\u001B[0m, in \u001B[0;36mWord2Vec._load_specials\u001B[1;34m(self, *args, **kwargs)\u001B[0m\n\u001B[0;32m   1967\u001B[0m \u001B[38;5;28;01mdef\u001B[39;00m \u001B[38;5;21m_load_specials\u001B[39m(\u001B[38;5;28mself\u001B[39m, \u001B[38;5;241m*\u001B[39margs, \u001B[38;5;241m*\u001B[39m\u001B[38;5;241m*\u001B[39mkwargs):\n\u001B[0;32m   1968\u001B[0m \u001B[38;5;250m    \u001B[39m\u001B[38;5;124;03m\"\"\"Handle special requirements of `.load()` protocol, usually up-converting older versions.\"\"\"\u001B[39;00m\n\u001B[1;32m-> 1969\u001B[0m     \u001B[38;5;28msuper\u001B[39m(Word2Vec, \u001B[38;5;28mself\u001B[39m)\u001B[38;5;241m.\u001B[39m_load_specials(\u001B[38;5;241m*\u001B[39margs, \u001B[38;5;241m*\u001B[39m\u001B[38;5;241m*\u001B[39mkwargs)\n\u001B[0;32m   1970\u001B[0m     \u001B[38;5;66;03m# for backward compatibility, add/rearrange properties from prior versions\u001B[39;00m\n\u001B[0;32m   1971\u001B[0m     \u001B[38;5;28;01mif\u001B[39;00m \u001B[38;5;129;01mnot\u001B[39;00m \u001B[38;5;28mhasattr\u001B[39m(\u001B[38;5;28mself\u001B[39m, \u001B[38;5;124m'\u001B[39m\u001B[38;5;124mns_exponent\u001B[39m\u001B[38;5;124m'\u001B[39m):\n",
      "File \u001B[1;32mD:\\anaconda\\envs\\gpcr-afpn\\lib\\site-packages\\gensim\\utils.py:518\u001B[0m, in \u001B[0;36mSaveLoad._load_specials\u001B[1;34m(self, fname, mmap, compress, subname)\u001B[0m\n\u001B[0;32m    516\u001B[0m     logger\u001B[38;5;241m.\u001B[39minfo(\u001B[38;5;124m\"\u001B[39m\u001B[38;5;124mloading \u001B[39m\u001B[38;5;132;01m%s\u001B[39;00m\u001B[38;5;124m recursively from \u001B[39m\u001B[38;5;132;01m%s\u001B[39;00m\u001B[38;5;124m.* with mmap=\u001B[39m\u001B[38;5;132;01m%s\u001B[39;00m\u001B[38;5;124m\"\u001B[39m, attrib, cfname, mmap)\n\u001B[0;32m    517\u001B[0m     \u001B[38;5;28;01mwith\u001B[39;00m ignore_deprecation_warning():\n\u001B[1;32m--> 518\u001B[0m         \u001B[38;5;28;43mgetattr\u001B[39;49m\u001B[43m(\u001B[49m\u001B[38;5;28;43mself\u001B[39;49m\u001B[43m,\u001B[49m\u001B[43m \u001B[49m\u001B[43mattrib\u001B[49m\u001B[43m)\u001B[49m\u001B[38;5;241;43m.\u001B[39;49m\u001B[43m_load_specials\u001B[49m\u001B[43m(\u001B[49m\u001B[43mcfname\u001B[49m\u001B[43m,\u001B[49m\u001B[43m \u001B[49m\u001B[43mmmap\u001B[49m\u001B[43m,\u001B[49m\u001B[43m \u001B[49m\u001B[43mcompress\u001B[49m\u001B[43m,\u001B[49m\u001B[43m \u001B[49m\u001B[43msubname\u001B[49m\u001B[43m)\u001B[49m\n\u001B[0;32m    520\u001B[0m \u001B[38;5;28;01mfor\u001B[39;00m attrib \u001B[38;5;129;01min\u001B[39;00m \u001B[38;5;28mgetattr\u001B[39m(\u001B[38;5;28mself\u001B[39m, \u001B[38;5;124m'\u001B[39m\u001B[38;5;124m__numpys\u001B[39m\u001B[38;5;124m'\u001B[39m, []):\n\u001B[0;32m    521\u001B[0m     logger\u001B[38;5;241m.\u001B[39minfo(\u001B[38;5;124m\"\u001B[39m\u001B[38;5;124mloading \u001B[39m\u001B[38;5;132;01m%s\u001B[39;00m\u001B[38;5;124m from \u001B[39m\u001B[38;5;132;01m%s\u001B[39;00m\u001B[38;5;124m with mmap=\u001B[39m\u001B[38;5;132;01m%s\u001B[39;00m\u001B[38;5;124m\"\u001B[39m, attrib, subname(fname, attrib), mmap)\n",
      "File \u001B[1;32mD:\\anaconda\\envs\\gpcr-afpn\\lib\\site-packages\\gensim\\models\\fasttext.py:1005\u001B[0m, in \u001B[0;36mFastTextKeyedVectors._load_specials\u001B[1;34m(self, *args, **kwargs)\u001B[0m\n\u001B[0;32m   1003\u001B[0m \u001B[38;5;28;01mdef\u001B[39;00m \u001B[38;5;21m_load_specials\u001B[39m(\u001B[38;5;28mself\u001B[39m, \u001B[38;5;241m*\u001B[39margs, \u001B[38;5;241m*\u001B[39m\u001B[38;5;241m*\u001B[39mkwargs):\n\u001B[0;32m   1004\u001B[0m \u001B[38;5;250m    \u001B[39m\u001B[38;5;124;03m\"\"\"Handle special requirements of `.load()` protocol, usually up-converting older versions.\"\"\"\u001B[39;00m\n\u001B[1;32m-> 1005\u001B[0m     \u001B[38;5;28msuper\u001B[39m(FastTextKeyedVectors, \u001B[38;5;28mself\u001B[39m)\u001B[38;5;241m.\u001B[39m_load_specials(\u001B[38;5;241m*\u001B[39margs, \u001B[38;5;241m*\u001B[39m\u001B[38;5;241m*\u001B[39mkwargs)\n\u001B[0;32m   1006\u001B[0m     \u001B[38;5;28;01mif\u001B[39;00m \u001B[38;5;129;01mnot\u001B[39;00m \u001B[38;5;28misinstance\u001B[39m(\u001B[38;5;28mself\u001B[39m, FastTextKeyedVectors):\n\u001B[0;32m   1007\u001B[0m         \u001B[38;5;28;01mraise\u001B[39;00m \u001B[38;5;167;01mTypeError\u001B[39;00m(\u001B[38;5;124m\"\u001B[39m\u001B[38;5;124mLoaded object of type \u001B[39m\u001B[38;5;132;01m%s\u001B[39;00m\u001B[38;5;124m, not expected FastTextKeyedVectors\u001B[39m\u001B[38;5;124m\"\u001B[39m \u001B[38;5;241m%\u001B[39m \u001B[38;5;28mtype\u001B[39m(\u001B[38;5;28mself\u001B[39m))\n",
      "File \u001B[1;32mD:\\anaconda\\envs\\gpcr-afpn\\lib\\site-packages\\gensim\\models\\keyedvectors.py:263\u001B[0m, in \u001B[0;36mKeyedVectors._load_specials\u001B[1;34m(self, *args, **kwargs)\u001B[0m\n\u001B[0;32m    261\u001B[0m \u001B[38;5;28;01mdef\u001B[39;00m \u001B[38;5;21m_load_specials\u001B[39m(\u001B[38;5;28mself\u001B[39m, \u001B[38;5;241m*\u001B[39margs, \u001B[38;5;241m*\u001B[39m\u001B[38;5;241m*\u001B[39mkwargs):\n\u001B[0;32m    262\u001B[0m \u001B[38;5;250m    \u001B[39m\u001B[38;5;124;03m\"\"\"Handle special requirements of `.load()` protocol, usually up-converting older versions.\"\"\"\u001B[39;00m\n\u001B[1;32m--> 263\u001B[0m     \u001B[38;5;28msuper\u001B[39m(KeyedVectors, \u001B[38;5;28mself\u001B[39m)\u001B[38;5;241m.\u001B[39m_load_specials(\u001B[38;5;241m*\u001B[39margs, \u001B[38;5;241m*\u001B[39m\u001B[38;5;241m*\u001B[39mkwargs)\n\u001B[0;32m    264\u001B[0m     \u001B[38;5;28;01mif\u001B[39;00m \u001B[38;5;28mhasattr\u001B[39m(\u001B[38;5;28mself\u001B[39m, \u001B[38;5;124m'\u001B[39m\u001B[38;5;124mdoctags\u001B[39m\u001B[38;5;124m'\u001B[39m):\n\u001B[0;32m    265\u001B[0m         \u001B[38;5;28mself\u001B[39m\u001B[38;5;241m.\u001B[39m_upconvert_old_d2vkv()\n",
      "File \u001B[1;32mD:\\anaconda\\envs\\gpcr-afpn\\lib\\site-packages\\gensim\\utils.py:529\u001B[0m, in \u001B[0;36mSaveLoad._load_specials\u001B[1;34m(self, fname, mmap, compress, subname)\u001B[0m\n\u001B[0;32m    527\u001B[0m     val \u001B[38;5;241m=\u001B[39m np\u001B[38;5;241m.\u001B[39mload(subname(fname, attrib))[\u001B[38;5;124m'\u001B[39m\u001B[38;5;124mval\u001B[39m\u001B[38;5;124m'\u001B[39m]\n\u001B[0;32m    528\u001B[0m \u001B[38;5;28;01melse\u001B[39;00m:\n\u001B[1;32m--> 529\u001B[0m     val \u001B[38;5;241m=\u001B[39m \u001B[43mnp\u001B[49m\u001B[38;5;241;43m.\u001B[39;49m\u001B[43mload\u001B[49m\u001B[43m(\u001B[49m\u001B[43msubname\u001B[49m\u001B[43m(\u001B[49m\u001B[43mfname\u001B[49m\u001B[43m,\u001B[49m\u001B[43m \u001B[49m\u001B[43mattrib\u001B[49m\u001B[43m)\u001B[49m\u001B[43m,\u001B[49m\u001B[43m \u001B[49m\u001B[43mmmap_mode\u001B[49m\u001B[38;5;241;43m=\u001B[39;49m\u001B[43mmmap\u001B[49m\u001B[43m)\u001B[49m\n\u001B[0;32m    531\u001B[0m \u001B[38;5;28;01mwith\u001B[39;00m ignore_deprecation_warning():\n\u001B[0;32m    532\u001B[0m     \u001B[38;5;28msetattr\u001B[39m(\u001B[38;5;28mself\u001B[39m, attrib, val)\n",
      "File \u001B[1;32mD:\\anaconda\\envs\\gpcr-afpn\\lib\\site-packages\\numpy\\lib\\npyio.py:438\u001B[0m, in \u001B[0;36mload\u001B[1;34m(file, mmap_mode, allow_pickle, fix_imports, encoding, max_header_size)\u001B[0m\n\u001B[0;32m    435\u001B[0m \u001B[38;5;28;01melse\u001B[39;00m:\n\u001B[0;32m    436\u001B[0m     \u001B[38;5;66;03m# Try a pickle\u001B[39;00m\n\u001B[0;32m    437\u001B[0m     \u001B[38;5;28;01mif\u001B[39;00m \u001B[38;5;129;01mnot\u001B[39;00m allow_pickle:\n\u001B[1;32m--> 438\u001B[0m         \u001B[38;5;28;01mraise\u001B[39;00m \u001B[38;5;167;01mValueError\u001B[39;00m(\u001B[38;5;124m\"\u001B[39m\u001B[38;5;124mCannot load file containing pickled data \u001B[39m\u001B[38;5;124m\"\u001B[39m\n\u001B[0;32m    439\u001B[0m                          \u001B[38;5;124m\"\u001B[39m\u001B[38;5;124mwhen allow_pickle=False\u001B[39m\u001B[38;5;124m\"\u001B[39m)\n\u001B[0;32m    440\u001B[0m     \u001B[38;5;28;01mtry\u001B[39;00m:\n\u001B[0;32m    441\u001B[0m         \u001B[38;5;28;01mreturn\u001B[39;00m pickle\u001B[38;5;241m.\u001B[39mload(fid, \u001B[38;5;241m*\u001B[39m\u001B[38;5;241m*\u001B[39mpickle_kwargs)\n",
      "\u001B[1;31mValueError\u001B[0m: Cannot load file containing pickled data when allow_pickle=False"
     ]
    }
   ],
   "source": [
    "p.predict(file_path, str(1))"
   ]
  },
  {
   "cell_type": "code",
   "execution_count": null,
   "metadata": {},
   "outputs": [],
   "source": []
  }
 ],
 "metadata": {
  "kernelspec": {
   "display_name": "Python 3 (ipykernel)",
   "language": "python",
   "name": "python3"
  },
  "language_info": {
   "codemirror_mode": {
    "name": "ipython",
    "version": 3
   },
   "file_extension": ".py",
   "mimetype": "text/x-python",
   "name": "python",
   "nbconvert_exporter": "python",
   "pygments_lexer": "ipython3",
   "version": "3.10.12"
  }
 },
 "nbformat": 4,
 "nbformat_minor": 4
}