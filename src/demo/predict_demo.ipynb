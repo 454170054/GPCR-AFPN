{
 "cells": [
  {
   "cell_type": "code",
   "execution_count": 4,
   "metadata": {},
   "outputs": [],
   "source": [
    "from src.code import predict"
   ]
  },
  {
   "cell_type": "markdown",
   "source": [
    "### Define the filepath of the dataset needing to be predicted"
   ],
   "metadata": {
    "collapsed": false,
    "pycharm": {
     "name": "#%% md\n"
    }
   }
  },
  {
   "cell_type": "code",
   "execution_count": null,
   "outputs": [],
   "source": [
    "file_path = r\"../../resources/predict/test_dataset.csv\""
   ],
   "metadata": {
    "collapsed": false,
    "pycharm": {
     "name": "#%%\n"
    }
   }
  },
  {
   "cell_type": "code",
   "execution_count": null,
   "metadata": {
    "collapsed": false,
    "jupyter": {
     "outputs_hidden": false
    },
    "pycharm": {
     "name": "#%%\n"
    }
   },
   "outputs": [],
   "source": [
    "p = predict.Predictor()"
   ]
  },
  {
   "cell_type": "code",
   "execution_count": 3,
   "metadata": {
    "collapsed": false,
    "jupyter": {
     "outputs_hidden": false
    },
    "pycharm": {
     "name": "#%%\n"
    }
   },
   "outputs": [
    {
     "name": "stdout",
     "output_type": "stream",
     "text": [
      "(1341, 288)\n",
      "42/42 [==============================] - 1s 5ms/step\n",
      "                                                    seq     class  label  \\\n",
      "0     MAGAENWPGQQLELDEDEASCCRWGAQHAGARELAALYSPGKRLQE...  Non-GPCR      0   \n",
      "1     MMDRYSFIMHQHRDDTVWCPSKIEEQNITRISEFHLMGLSDDLQLQ...      GPCR      1   \n",
      "2     MQLETQDALYVALELVIAALAVAGNVLVCAAVGASSALQTPTNYFL...      GPCR      1   \n",
      "3     MQIQTILLCFSFSFSAAFYFHAGEREEKCIIEDIPSDTLITGTFKV...  Non-GPCR      0   \n",
      "4     MVCEGKRSASCPCFFLLTAKFYWILTMMQRTHSQEYAHSIRVDGDI...      GPCR      1   \n",
      "...                                                 ...       ...    ...   \n",
      "1336  METVETLNEGLKRNYTLTITADEIRKRIDQEVAEAAPRVNLPGFRP...  Non-GPCR      0   \n",
      "1337  MQSSSLGNADDPRFRQTHLFQMLVKVINTSAENATKTAIATSSTST...      GPCR      1   \n",
      "1338  MKHIITPYEHTNDTARNNSDCPDVVLPEEIFFTISIIGVLENLIVL...      GPCR      1   \n",
      "1339  MRSFWLFLLLLLFCISFIKLTEGNEDAKRLYDDLMVNYNRHRRPST...  Non-GPCR      0   \n",
      "1340  MEPEINCSEFCDSFPGQELDRRPLHDLCKTTITESQHSSTAASPLS...      GPCR      1   \n",
      "\n",
      "      probability  Label  \n",
      "0        0.000010      0  \n",
      "1        0.999978      1  \n",
      "2        0.999956      1  \n",
      "3        0.000027      0  \n",
      "4        0.998958      1  \n",
      "...           ...    ...  \n",
      "1336     0.000002      0  \n",
      "1337     0.364561      0  \n",
      "1338     0.999952      1  \n",
      "1339     0.000322      0  \n",
      "1340     0.705366      1  \n",
      "\n",
      "[1341 rows x 5 columns]\n"
     ]
    }
   ],
   "source": [
    "p.predict(file_path, str(1))"
   ]
  },
  {
   "cell_type": "code",
   "execution_count": null,
   "metadata": {},
   "outputs": [],
   "source": []
  }
 ],
 "metadata": {
  "kernelspec": {
   "display_name": "Python 3 (ipykernel)",
   "language": "python",
   "name": "python3"
  },
  "language_info": {
   "codemirror_mode": {
    "name": "ipython",
    "version": 3
   },
   "file_extension": ".py",
   "mimetype": "text/x-python",
   "name": "python",
   "nbconvert_exporter": "python",
   "pygments_lexer": "ipython3",
   "version": "3.10.12"
  }
 },
 "nbformat": 4,
 "nbformat_minor": 4
}